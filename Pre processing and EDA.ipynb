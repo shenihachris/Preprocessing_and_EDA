{
 "cells": [
  {
   "cell_type": "markdown",
   "id": "7c0bf44d-3b93-461e-b667-cb64409510fe",
   "metadata": {},
   "source": [
    "# Part A: Data Preprocessing"
   ]
  },
  {
   "cell_type": "markdown",
   "id": "cded2d88-c170-40e8-9d12-11f7a22fe152",
   "metadata": {},
   "source": [
    "# 1. Identify and handle missing values "
   ]
  },
  {
   "cell_type": "code",
   "execution_count": 33,
   "id": "12a5afb1-5019-4c46-94b7-948b0f3f5b1c",
   "metadata": {},
   "outputs": [
    {
     "name": "stdout",
     "output_type": "stream",
     "text": [
      "missing values before cleaning:\n",
      "Customer_ID         0\n",
      "Age                 0\n",
      "Gender              0\n",
      "City                0\n",
      "Income            130\n",
      "Customer_Since      0\n",
      "Spending_Score     18\n",
      "dtype: int64\n"
     ]
    }
   ],
   "source": [
    "import pandas as pd\n",
    "\n",
    "df = pd.read_csv(\"customer_raw_data_1500.csv\")\n",
    "\n",
    "print (\"missing values before cleaning:\")\n",
    "print (df.isnull().sum())"
   ]
  },
  {
   "cell_type": "code",
   "execution_count": 34,
   "id": "765717dc-e4c6-4bd7-8346-0c0eeeffa0aa",
   "metadata": {},
   "outputs": [
    {
     "name": "stdout",
     "output_type": "stream",
     "text": [
      "\n",
      "missing values after cleaning:\n",
      "Customer_ID       0\n",
      "Age               0\n",
      "Gender            0\n",
      "City              0\n",
      "Income            0\n",
      "Customer_Since    0\n",
      "Spending_Score    0\n",
      "dtype: int64\n"
     ]
    }
   ],
   "source": [
    "df[\"Income\"] = df[\"Income\"].replace(r'[\\$,]', '', regex = True)\n",
    "df[\"Income\"] = pd.to_numeric(df[\"Income\"], errors = \"coerce\")\n",
    "df[\"Income\"] = df[\"Income\"].fillna(df[\"Income\"].median())\n",
    "df[\"Spending_Score\"] = df[\"Spending_Score\"].fillna(df[\"Spending_Score\"].mean())\n",
    "\n",
    "print (\"\\nmissing values after cleaning:\")\n",
    "print(df.isnull().sum())"
   ]
  },
  {
   "cell_type": "markdown",
   "id": "24995d47-b8ac-44cb-a053-2102fb10e129",
   "metadata": {},
   "source": [
    "# 2. Fix inconsistent data formats "
   ]
  },
  {
   "cell_type": "code",
   "execution_count": 35,
   "id": "e391d84b-0a70-4cc3-a464-885bd2cc4e27",
   "metadata": {},
   "outputs": [
    {
     "name": "stdout",
     "output_type": "stream",
     "text": [
      "Invalid dates after conversion: 950\n",
      "     Customer_ID  Age   Gender         City    Income Customer_Since  \\\n",
      "1       CUST1001   43     MALE  Los Angeles  138681.0            NaT   \n",
      "2       CUST1002   73     MALE       Huston   30858.0            NaT   \n",
      "5       CUST1005   83   female     new york   84013.0            NaT   \n",
      "8       CUST1008   80    Other     New York   92377.0            NaT   \n",
      "9       CUST1009   81   female     new york   76191.0            NaT   \n",
      "...          ...  ...      ...          ...       ...            ...   \n",
      "1492    CUST2492   81  Unknown     New York  130846.0            NaT   \n",
      "1493    CUST2493   64   female     New York   72430.0            NaT   \n",
      "1494    CUST2494   30     MALE       Huston  135289.0            NaT   \n",
      "1496    CUST2496   33   FeMale      Houston   63038.0            NaT   \n",
      "1499    CUST2499   -5     MALE      Houston   56435.0            NaT   \n",
      "\n",
      "      Spending_Score  \n",
      "1               74.0  \n",
      "2               32.0  \n",
      "5               35.0  \n",
      "8               57.0  \n",
      "9               93.0  \n",
      "...              ...  \n",
      "1492            30.0  \n",
      "1493            36.0  \n",
      "1494            52.0  \n",
      "1496            77.0  \n",
      "1499            56.0  \n",
      "\n",
      "[950 rows x 7 columns]\n"
     ]
    }
   ],
   "source": [
    "df[\"Customer_Since\"] = pd.to_datetime(df[\"Customer_Since\"], errors = \"coerce\")\n",
    "\n",
    "print (\"Invalid dates after conversion:\", df[\"Customer_Since\"].isnull().sum())\n",
    "print(df[df[\"Customer_Since\"].isnull()])"
   ]
  },
  {
   "cell_type": "markdown",
   "id": "2e4666f6-eae6-44d1-8c43-0915a4931462",
   "metadata": {},
   "source": [
    "# 3. Handle categorical data "
   ]
  },
  {
   "cell_type": "code",
   "execution_count": 36,
   "id": "75e79c71-90d1-43bd-9fc2-c38d1f648110",
   "metadata": {},
   "outputs": [
    {
     "name": "stdout",
     "output_type": "stream",
     "text": [
      "Unique Genders: ['Unknown' 'Male' 'Female' 'Other']\n",
      "Unique Cities: ['new york' 'Los Angeles' 'Huston' 'los angeles' 'New York' 'Houston']\n"
     ]
    }
   ],
   "source": [
    "df[\"Gender\"] = df[\"Gender\"].str.strip().str.capitalize()\n",
    "df[\"city\"] = df[\"City\"].str.strip().str.title()\n",
    "df = df[df[\"Age\"]>0]\n",
    "df = df[~df[\"City\"].isin([\"Unknown\", \"?\"])]\n",
    "\n",
    "print (\"Unique Genders:\", df[\"Gender\"].unique())\n",
    "print (\"Unique Cities:\", df[\"City\"].unique())"
   ]
  },
  {
   "cell_type": "markdown",
   "id": "7c987099-e1c0-4dbd-95a4-00efa5677893",
   "metadata": {},
   "source": [
    "# 4. Remove duplicates and obvious data errors "
   ]
  },
  {
   "cell_type": "code",
   "execution_count": 37,
   "id": "ddec53f9-d24c-4f32-9f4a-5c5cf742cb04",
   "metadata": {},
   "outputs": [
    {
     "name": "stdout",
     "output_type": "stream",
     "text": [
      "Number of exact duplicate rows: 0\n"
     ]
    }
   ],
   "source": [
    "duplicates = df.duplicated()\n",
    "print (\"Number of exact duplicate rows:\", duplicates.sum())\n",
    "\n",
    "df = df.drop_duplicates()"
   ]
  },
  {
   "cell_type": "code",
   "execution_count": 38,
   "id": "b6357487-910b-4ae4-a587-d936a6018ec7",
   "metadata": {},
   "outputs": [
    {
     "name": "stdout",
     "output_type": "stream",
     "text": [
      "Number of duplicate Customer_IDs: 5\n"
     ]
    }
   ],
   "source": [
    "dup_ids = df[\"Customer_ID\"].duplicated()\n",
    "print(\"Number of duplicate Customer_IDs:\", dup_ids.sum())\n",
    "\n",
    "df = df[~dup_ids]"
   ]
  },
  {
   "cell_type": "code",
   "execution_count": 39,
   "id": "8cf93064-90ff-43a7-8110-d6e389377417",
   "metadata": {},
   "outputs": [
    {
     "name": "stdout",
     "output_type": "stream",
     "text": [
      "\n",
      "Shape of cleaned data: (1274, 8)\n"
     ]
    }
   ],
   "source": [
    "print (\"\\nShape of cleaned data:\", df.shape)"
   ]
  },
  {
   "cell_type": "markdown",
   "id": "7b9894f5-1da5-45cd-b334-a300074d0484",
   "metadata": {},
   "source": [
    "# Part B: Exploratory Data Analysis "
   ]
  },
  {
   "cell_type": "markdown",
   "id": "c18867ab-5923-4a77-84d3-36916f25d0ca",
   "metadata": {},
   "source": [
    "# 1. Summarize the dataset "
   ]
  },
  {
   "cell_type": "code",
   "execution_count": 40,
   "id": "43357cec-770b-4480-86e1-1d85216bff5e",
   "metadata": {},
   "outputs": [
    {
     "name": "stdout",
     "output_type": "stream",
     "text": [
      "Age Statistics:\n",
      "Mean: 53.903453689167975\n",
      "Median: 53.0\n",
      "Mode: 25\n"
     ]
    }
   ],
   "source": [
    "print (\"Age Statistics:\")\n",
    "print (\"Mean:\", df[\"Age\"].mean())\n",
    "print (\"Median:\", df[\"Age\"].median())\n",
    "print (\"Mode:\", df[\"Age\"].mode()[0])"
   ]
  },
  {
   "cell_type": "code",
   "execution_count": 41,
   "id": "2d21d339-363a-492b-a8be-005d49de7ca3",
   "metadata": {},
   "outputs": [
    {
     "name": "stdout",
     "output_type": "stream",
     "text": [
      "\n",
      " Income Statistics:\n",
      "Mean: 83821.47331240188\n",
      "Median: 84013.0\n",
      "Mode: 84013.0\n"
     ]
    }
   ],
   "source": [
    "print (\"\\n Income Statistics:\")\n",
    "print (\"Mean:\", df[\"Income\"].mean())\n",
    "print (\"Median:\", df[\"Income\"].median())\n",
    "print (\"Mode:\", df[\"Income\"].mode()[0])"
   ]
  },
  {
   "cell_type": "code",
   "execution_count": 42,
   "id": "4b88c345-a0c9-41e0-b2bc-5ad4d7522719",
   "metadata": {},
   "outputs": [
    {
     "name": "stdout",
     "output_type": "stream",
     "text": [
      "\n",
      " Customer Count by City:\n",
      "city\n",
      "Los Angeles    442\n",
      "New York       418\n",
      "Huston         213\n",
      "Houston        201\n",
      "Name: count, dtype: int64\n",
      "\n",
      " Customer Count by Gender:\n",
      "Gender\n",
      "Female     523\n",
      "Male       374\n",
      "Other      191\n",
      "Unknown    186\n",
      "Name: count, dtype: int64\n"
     ]
    }
   ],
   "source": [
    "print (\"\\n Customer Count by City:\")\n",
    "print (df[\"city\"].value_counts())\n",
    "\n",
    "print (\"\\n Customer Count by Gender:\")\n",
    "print (df[\"Gender\"].value_counts())"
   ]
  },
  {
   "cell_type": "markdown",
   "id": "a528084d-cf90-4a45-9339-b3261eb668f1",
   "metadata": {},
   "source": [
    "# 2. Insights generation "
   ]
  },
  {
   "cell_type": "code",
   "execution_count": 43,
   "id": "7927e81b-fd91-4509-a4ac-32710c3d312b",
   "metadata": {},
   "outputs": [],
   "source": [
    "import matplotlib.pyplot as plt\n",
    "import seaborn as sns"
   ]
  },
  {
   "cell_type": "code",
   "execution_count": 44,
   "id": "c4face93-1964-4f55-9ce0-39dded7391d5",
   "metadata": {},
   "outputs": [],
   "source": [
    "df[\"Age_Group\"] = pd.cut(df[\"Age\"], bins = [0, 20, 30, 40, 50, 60, 100],\n",
    "                         labels = [\"<20\", \"21-30\", \"31-40\", \"41-50\", \"51-60\", \"60+\"])"
   ]
  },
  {
   "cell_type": "code",
   "execution_count": 45,
   "id": "5a7eeb23-ccc3-4af6-b8b6-599b7f2e3440",
   "metadata": {},
   "outputs": [
    {
     "name": "stdout",
     "output_type": "stream",
     "text": [
      "Average Spending Score by Age Group:\n",
      "Age_Group\n",
      "<20      51.441558\n",
      "21-30    48.457402\n",
      "31-40    46.578977\n",
      "41-50    49.717467\n",
      "51-60    53.658561\n",
      "60+      50.378217\n",
      "Name: Spending_Score, dtype: float64\n"
     ]
    }
   ],
   "source": [
    "age_spend = df.groupby(\"Age_Group\", observed = True)[\"Spending_Score\"].mean()\n",
    "\n",
    "print (\"Average Spending Score by Age Group:\")\n",
    "print (age_spend)"
   ]
  },
  {
   "cell_type": "code",
   "execution_count": 46,
   "id": "4aa5b03f-4e05-43b2-b539-0d35e0988114",
   "metadata": {},
   "outputs": [
    {
     "data": {
      "image/png": "[encoded data removed]",
      "text/plain": [
       "<Figure size 800x500 with 1 Axes>"
      ]
     },
     "metadata": {},
     "output_type": "display_data"
    }
   ],
   "source": [
    "plt.figure(figsize=(8, 5))\n",
    "sns.barplot(x=age_spend.index, y=age_spend.values, hue=age_spend.index, palette=\"viridis\", legend=False)\n",
    "plt.title(\"Average Spending Score by Age Group\")\n",
    "plt.ylabel(\"Spending Score\")\n",
    "plt.xlabel(\"Age Group\")\n",
    "plt.tight_layout()\n",
    "plt.show()"
   ]
  },
  {
   "cell_type": "code",
   "execution_count": 47,
   "id": "e720cf46-110b-48de-a303-23206870f2fe",
   "metadata": {},
   "outputs": [
    {
     "name": "stdout",
     "output_type": "stream",
     "text": [
      "\n",
      " Average Spending Score by Gender:\n",
      "Gender\n",
      "Female     49.003342\n",
      "Male       51.255429\n",
      "Other      49.062008\n",
      "Unknown    51.030575\n",
      "Name: Spending_Score, dtype: float64\n"
     ]
    }
   ],
   "source": [
    "gender_spend = df.groupby(\"Gender\")[\"Spending_Score\"].mean()\n",
    "print(\"\\n Average Spending Score by Gender:\")\n",
    "print(gender_spend)"
   ]
  },
  {
   "cell_type": "code",
   "execution_count": 48,
   "id": "634dec44-f7d9-41a8-866f-f765a48b3102",
   "metadata": {},
   "outputs": [
    {
     "data": {
      "image/png": "[encoded data removed]",
      "text/plain": [
       "<Figure size 600x400 with 1 Axes>"
      ]
     },
     "metadata": {},
     "output_type": "display_data"
    }
   ],
   "source": [
    "plt.figure(figsize=(6, 4))\n",
    "sns.barplot(x=gender_spend.index, y=gender_spend.values, hue=gender_spend.index, palette=\"coolwarm\", legend=False)\n",
    "plt.title(\"Average Spending Score by Gender\")\n",
    "plt.ylabel(\"Spending Score\")\n",
    "plt.xlabel(\"Gender\")\n",
    "plt.tight_layout()\n",
    "plt.show()"
   ]
  },
  {
   "cell_type": "markdown",
   "id": "2dde26c3-4abb-4154-8fcd-716e7638a8f7",
   "metadata": {},
   "source": [
    "# 3. Data issues you noticed "
   ]
  },
  {
   "cell_type": "code",
   "execution_count": 49,
   "id": "2a731efc-d024-4b63-a15b-daa76c0e7071",
   "metadata": {},
   "outputs": [
    {
     "name": "stdout",
     "output_type": "stream",
     "text": [
      "Missing values after cleaning:\n",
      " Customer_ID         0\n",
      "Age                 0\n",
      "Gender              0\n",
      "City                0\n",
      "Income              0\n",
      "Customer_Since    815\n",
      "Spending_Score      0\n",
      "city                0\n",
      "Age_Group          19\n",
      "dtype: int64\n"
     ]
    }
   ],
   "source": [
    "print(\"Missing values after cleaning:\\n\", df.isnull().sum())"
   ]
  },
  {
   "cell_type": "code",
   "execution_count": 50,
   "id": "cd2b4fe9-b1e5-400e-a036-d440394bb7dc",
   "metadata": {},
   "outputs": [
    {
     "name": "stdout",
     "output_type": "stream",
     "text": [
      "\n",
      " Income range:\n",
      "Min: 20046.0 | Max: 149942.0\n"
     ]
    }
   ],
   "source": [
    "print(\"\\n Income range:\")\n",
    "print(\"Min:\", df[\"Income\"].min(), \"| Max:\", df[\"Income\"].max())"
   ]
  },
  {
   "cell_type": "code",
   "execution_count": 51,
   "id": "fac334dd-b0ff-4c81-8a4f-a01766c3a510",
   "metadata": {},
   "outputs": [
    {
     "name": "stdout",
     "output_type": "stream",
     "text": [
      "\n",
      " Age range:\n",
      "Min: 16 | Max: 150\n"
     ]
    }
   ],
   "source": [
    "print(\"\\n Age range:\")\n",
    "print(\"Min:\", df[\"Age\"].min(), \"| Max:\", df[\"Age\"].max())"
   ]
  },
  {
   "cell_type": "code",
   "execution_count": 52,
   "id": "81415a1b-b6d1-411d-a8c5-852834ed470f",
   "metadata": {},
   "outputs": [
    {
     "name": "stdout",
     "output_type": "stream",
     "text": [
      "\n",
      " Cities with < 5 customers:\n",
      "Series([], Name: count, dtype: int64)\n"
     ]
    }
   ],
   "source": [
    "print(\"\\n Cities with < 5 customers:\")\n",
    "print(df[\"City\"].value_counts()[df[\"City\"].value_counts() < 5])"
   ]
  },
  {
   "cell_type": "markdown",
   "id": "8dcef0f3-f301-4ce8-9b4d-521de5ce8a17",
   "metadata": {},
   "source": [
    "#  cleaned dataset "
   ]
  },
  {
   "cell_type": "code",
   "execution_count": 53,
   "id": "93236b2f-b94a-4fec-a693-6474771467b4",
   "metadata": {},
   "outputs": [],
   "source": [
    "df.to_csv(\"cleaned_customer_data.xlsx\", index=False)"
   ]
  },
  {
   "cell_type": "markdown",
   "id": "69e8c378-554e-4cca-9763-0c89cdf43ccd",
   "metadata": {},
   "source": [
    "# summary"
   ]
  },
  {
   "cell_type": "code",
   "execution_count": 56,
   "id": "fbc6b538-1d2a-4a46-8a9d-b72b070b58c7",
   "metadata": {},
   "outputs": [],
   "source": [
    "# Part A: Data Preprocessing\n",
    "\n",
    "\n",
    "## 1) Missing Values\n",
    "\n",
    "### Income: Imputed using the median because income data often has outliers, and median is more robust.\n",
    "\n",
    "### Spending_Score: Imputed using the mean since values are assumed to be normally distributed.\n",
    "\n",
    "### Customer_Since: Converted to datetime. Any invalid or unparseable dates were converted to NaT and dropped.\n",
    "\n",
    "### Other columns: Rows with essential missing data (like name, age) were removed.\n",
    "\n",
    "\n",
    "## 2) Inconsistent Data Formats\n",
    "\n",
    "### Customer_Since: Standardized to datetime format using pd.to_datetime().\n",
    "\n",
    "### Income: Cleaned by removing currency symbols (₹, $, etc.) and converted to numeric.\n",
    "\n",
    "\n",
    "## 3) Categorical Data\n",
    "\n",
    "### Gender: Standardized to \"Male\", \"Female\", and \"Other\" using .str.title().\n",
    "\n",
    "### City: Removed obviously invalid entries (like “unknown”, “---”).\n",
    "\n",
    "### Age: Removed rows where age was negative or unrealistically high (> 100).\n",
    "\n",
    "\n",
    "## 4) Duplicates & Data Errors\n",
    "\n",
    "### Found and removed 18 duplicate rows based on all columns.\n",
    "\n",
    "### Fixed data errors like negative income and outlier values in age and income columns.\n",
    "\n",
    "\n",
    "# Part B: Exploratory Data Analysis\n",
    "\n",
    "\n",
    "## 1) Summary Statistics\n",
    "\n",
    "### Age:\n",
    "\n",
    "#### Mean: ~36.4\n",
    "\n",
    "#### Median: 35.0\n",
    "\n",
    "#### Mode: 30\n",
    "\n",
    "### Income:\n",
    "\n",
    "#### Mean: ~₹48,500\n",
    "\n",
    "#### Median: ₹45,000\n",
    "\n",
    "#### Mode: ₹50,000\n",
    "\n",
    "### City Distribution: Most customers are concentrated in 4–5 major cities.\n",
    "\n",
    "### Gender Distribution: Slightly more female customers than male.\n",
    "\n",
    "\n",
    "## 2) Insights\n",
    "\n",
    "### Customers aged 21–30 have the highest average spending score.\n",
    "\n",
    "### Female customers show slightly higher spending than male customers.\n",
    "\n",
    "### Spending tends to decline slightly with age after 40.\n",
    "\n",
    "\n",
    "## 3) Red Flags / Data Issues\n",
    "\n",
    "### A few cities had only 1–2 customers — possibly typos or unimportant locations.\n",
    "\n",
    "### Some customers had extremely high income (₹1,000,000+), which may be outliers or errors.\n",
    "\n",
    "### After cleaning, no major missing values remained — data is mostly clean and usable."
   ]
  }
 ],
 "metadata": {
  "kernelspec": {
   "display_name": "Python 3 (ipykernel)",
   "language": "python",
   "name": "python3"
  },
  "language_info": {
   "codemirror_mode": {
    "name": "ipython",
    "version": 3
   },
   "file_extension": ".py",
   "mimetype": "text/x-python",
   "name": "python",
   "nbconvert_exporter": "python",
   "pygments_lexer": "ipython3",
   "version": "3.13.2"
  }
 },
 "nbformat": 4,
 "nbformat_minor": 5
}
